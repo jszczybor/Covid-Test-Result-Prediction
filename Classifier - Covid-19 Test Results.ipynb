{
 "cells": [
  {
   "cell_type": "markdown",
   "metadata": {},
   "source": [
    "# Predicting Covid-19 Test Results\n",
    "\n",
    "The purpose of this notebook is develop a classifier to predict Covid-19 test results. The work will use the same data as the study below, using the same dates for training and testing subsets.\n",
    "\n",
    "I will follow my own methods for training and validating the model and I will compare my results.\n",
    "\n",
    "   - Zoabi, Y., Deri-Rozov, S. & Shomron, N. Machine learning-based prediction of COVID-19 diagnosis based on symptoms. npj Digit. Med. 4, 3 (2021). https://doi.org/10.1038/s41746-020-00372-6\n"
   ]
  },
  {
   "cell_type": "code",
   "execution_count": 1,
   "metadata": {},
   "outputs": [],
   "source": [
    "import pandas as pd\n",
    "import matplotlib.pyplot as plt\n",
    "import numpy as np\n",
    "\n",
    "seed = 2019"
   ]
  },
  {
   "cell_type": "markdown",
   "metadata": {},
   "source": [
    "## Data"
   ]
  },
  {
   "cell_type": "code",
   "execution_count": 2,
   "metadata": {},
   "outputs": [
    {
     "data": {
      "text/html": [
       "<div>\n",
       "<style scoped>\n",
       "    .dataframe tbody tr th:only-of-type {\n",
       "        vertical-align: middle;\n",
       "    }\n",
       "\n",
       "    .dataframe tbody tr th {\n",
       "        vertical-align: top;\n",
       "    }\n",
       "\n",
       "    .dataframe thead th {\n",
       "        text-align: right;\n",
       "    }\n",
       "</style>\n",
       "<table border=\"1\" class=\"dataframe\">\n",
       "  <thead>\n",
       "    <tr style=\"text-align: right;\">\n",
       "      <th></th>\n",
       "      <th>test_date</th>\n",
       "      <th>cough</th>\n",
       "      <th>fever</th>\n",
       "      <th>sore_throat</th>\n",
       "      <th>shortness_of_breath</th>\n",
       "      <th>head_ache</th>\n",
       "      <th>corona_result</th>\n",
       "      <th>age_60_and_above</th>\n",
       "      <th>gender</th>\n",
       "      <th>test_indication</th>\n",
       "    </tr>\n",
       "  </thead>\n",
       "  <tbody>\n",
       "    <tr>\n",
       "      <th>0</th>\n",
       "      <td>2020-04-30</td>\n",
       "      <td>0</td>\n",
       "      <td>0</td>\n",
       "      <td>0</td>\n",
       "      <td>0</td>\n",
       "      <td>0</td>\n",
       "      <td>negative</td>\n",
       "      <td>None</td>\n",
       "      <td>female</td>\n",
       "      <td>Other</td>\n",
       "    </tr>\n",
       "    <tr>\n",
       "      <th>1</th>\n",
       "      <td>2020-04-30</td>\n",
       "      <td>1</td>\n",
       "      <td>0</td>\n",
       "      <td>0</td>\n",
       "      <td>0</td>\n",
       "      <td>0</td>\n",
       "      <td>negative</td>\n",
       "      <td>None</td>\n",
       "      <td>female</td>\n",
       "      <td>Other</td>\n",
       "    </tr>\n",
       "    <tr>\n",
       "      <th>2</th>\n",
       "      <td>2020-04-30</td>\n",
       "      <td>0</td>\n",
       "      <td>1</td>\n",
       "      <td>0</td>\n",
       "      <td>0</td>\n",
       "      <td>0</td>\n",
       "      <td>negative</td>\n",
       "      <td>None</td>\n",
       "      <td>male</td>\n",
       "      <td>Other</td>\n",
       "    </tr>\n",
       "    <tr>\n",
       "      <th>3</th>\n",
       "      <td>2020-04-30</td>\n",
       "      <td>1</td>\n",
       "      <td>0</td>\n",
       "      <td>0</td>\n",
       "      <td>0</td>\n",
       "      <td>0</td>\n",
       "      <td>negative</td>\n",
       "      <td>None</td>\n",
       "      <td>female</td>\n",
       "      <td>Other</td>\n",
       "    </tr>\n",
       "    <tr>\n",
       "      <th>4</th>\n",
       "      <td>2020-04-30</td>\n",
       "      <td>1</td>\n",
       "      <td>0</td>\n",
       "      <td>0</td>\n",
       "      <td>0</td>\n",
       "      <td>0</td>\n",
       "      <td>negative</td>\n",
       "      <td>None</td>\n",
       "      <td>male</td>\n",
       "      <td>Other</td>\n",
       "    </tr>\n",
       "    <tr>\n",
       "      <th>...</th>\n",
       "      <td>...</td>\n",
       "      <td>...</td>\n",
       "      <td>...</td>\n",
       "      <td>...</td>\n",
       "      <td>...</td>\n",
       "      <td>...</td>\n",
       "      <td>...</td>\n",
       "      <td>...</td>\n",
       "      <td>...</td>\n",
       "      <td>...</td>\n",
       "    </tr>\n",
       "    <tr>\n",
       "      <th>278843</th>\n",
       "      <td>2020-03-11</td>\n",
       "      <td>0</td>\n",
       "      <td>0</td>\n",
       "      <td>0</td>\n",
       "      <td>0</td>\n",
       "      <td>0</td>\n",
       "      <td>negative</td>\n",
       "      <td>None</td>\n",
       "      <td>None</td>\n",
       "      <td>Other</td>\n",
       "    </tr>\n",
       "    <tr>\n",
       "      <th>278844</th>\n",
       "      <td>2020-03-11</td>\n",
       "      <td>0</td>\n",
       "      <td>0</td>\n",
       "      <td>0</td>\n",
       "      <td>0</td>\n",
       "      <td>0</td>\n",
       "      <td>negative</td>\n",
       "      <td>None</td>\n",
       "      <td>None</td>\n",
       "      <td>Other</td>\n",
       "    </tr>\n",
       "    <tr>\n",
       "      <th>278845</th>\n",
       "      <td>2020-03-11</td>\n",
       "      <td>0</td>\n",
       "      <td>0</td>\n",
       "      <td>0</td>\n",
       "      <td>0</td>\n",
       "      <td>0</td>\n",
       "      <td>positive</td>\n",
       "      <td>None</td>\n",
       "      <td>None</td>\n",
       "      <td>Contact with confirmed</td>\n",
       "    </tr>\n",
       "    <tr>\n",
       "      <th>278846</th>\n",
       "      <td>2020-03-11</td>\n",
       "      <td>0</td>\n",
       "      <td>0</td>\n",
       "      <td>0</td>\n",
       "      <td>0</td>\n",
       "      <td>0</td>\n",
       "      <td>other</td>\n",
       "      <td>None</td>\n",
       "      <td>None</td>\n",
       "      <td>Other</td>\n",
       "    </tr>\n",
       "    <tr>\n",
       "      <th>278847</th>\n",
       "      <td>2020-03-11</td>\n",
       "      <td>0</td>\n",
       "      <td>0</td>\n",
       "      <td>0</td>\n",
       "      <td>0</td>\n",
       "      <td>0</td>\n",
       "      <td>negative</td>\n",
       "      <td>None</td>\n",
       "      <td>None</td>\n",
       "      <td>Other</td>\n",
       "    </tr>\n",
       "  </tbody>\n",
       "</table>\n",
       "<p>278848 rows × 10 columns</p>\n",
       "</div>"
      ],
      "text/plain": [
       "         test_date cough fever sore_throat shortness_of_breath head_ache  \\\n",
       "0       2020-04-30     0     0           0                   0         0   \n",
       "1       2020-04-30     1     0           0                   0         0   \n",
       "2       2020-04-30     0     1           0                   0         0   \n",
       "3       2020-04-30     1     0           0                   0         0   \n",
       "4       2020-04-30     1     0           0                   0         0   \n",
       "...            ...   ...   ...         ...                 ...       ...   \n",
       "278843  2020-03-11     0     0           0                   0         0   \n",
       "278844  2020-03-11     0     0           0                   0         0   \n",
       "278845  2020-03-11     0     0           0                   0         0   \n",
       "278846  2020-03-11     0     0           0                   0         0   \n",
       "278847  2020-03-11     0     0           0                   0         0   \n",
       "\n",
       "       corona_result age_60_and_above  gender         test_indication  \n",
       "0           negative             None  female                   Other  \n",
       "1           negative             None  female                   Other  \n",
       "2           negative             None    male                   Other  \n",
       "3           negative             None  female                   Other  \n",
       "4           negative             None    male                   Other  \n",
       "...              ...              ...     ...                     ...  \n",
       "278843      negative             None    None                   Other  \n",
       "278844      negative             None    None                   Other  \n",
       "278845      positive             None    None  Contact with confirmed  \n",
       "278846         other             None    None                   Other  \n",
       "278847      negative             None    None                   Other  \n",
       "\n",
       "[278848 rows x 10 columns]"
      ]
     },
     "execution_count": 2,
     "metadata": {},
     "output_type": "execute_result"
    }
   ],
   "source": [
    "covid = pd.read_csv('corona_tested_individuals_ver_006.english.csv',\n",
    "                    low_memory=False)\n",
    "covid"
   ]
  },
  {
   "cell_type": "markdown",
   "metadata": {},
   "source": [
    "In the original study, training data was from March 22nd to March 31st. Testing data was April 1st to April 7th."
   ]
  },
  {
   "cell_type": "code",
   "execution_count": 3,
   "metadata": {},
   "outputs": [],
   "source": [
    "# making the test_date column only month and day\n",
    "covid.test_date = covid.test_date.apply(lambda x: x.replace('-', '')[-4:]).astype('int32')\n",
    "# getting only the desired dates from the study\n",
    "covid = covid[(covid.test_date>321) & (covid.test_date<408)]"
   ]
  },
  {
   "cell_type": "markdown",
   "metadata": {},
   "source": [
    "## Data Exploration"
   ]
  },
  {
   "cell_type": "code",
   "execution_count": 4,
   "metadata": {},
   "outputs": [
    {
     "data": {
      "text/plain": [
       "test_date              False\n",
       "cough                  False\n",
       "fever                  False\n",
       "sore_throat            False\n",
       "shortness_of_breath    False\n",
       "head_ache              False\n",
       "corona_result          False\n",
       "age_60_and_above       False\n",
       "gender                 False\n",
       "test_indication        False\n",
       "dtype: bool"
      ]
     },
     "execution_count": 4,
     "metadata": {},
     "output_type": "execute_result"
    }
   ],
   "source": [
    "# missing values - no\n",
    "covid.isnull().any()"
   ]
  },
  {
   "cell_type": "markdown",
   "metadata": {},
   "source": [
    "### Value counts for categorical features:"
   ]
  },
  {
   "cell_type": "code",
   "execution_count": 5,
   "metadata": {},
   "outputs": [
    {
     "data": {
      "text/plain": [
       "test_date               int32\n",
       "cough                  object\n",
       "fever                  object\n",
       "sore_throat            object\n",
       "shortness_of_breath    object\n",
       "head_ache              object\n",
       "corona_result          object\n",
       "age_60_and_above       object\n",
       "gender                 object\n",
       "test_indication        object\n",
       "dtype: object"
      ]
     },
     "execution_count": 5,
     "metadata": {},
     "output_type": "execute_result"
    }
   ],
   "source": [
    "# data types\n",
    "covid.dtypes"
   ]
  },
  {
   "cell_type": "code",
   "execution_count": 6,
   "metadata": {},
   "outputs": [
    {
     "data": {
      "image/png": "[encoded data removed]",
      "text/plain": [
       "<Figure size 432x288 with 1 Axes>"
      ]
     },
     "metadata": {
      "needs_background": "light"
     },
     "output_type": "display_data"
    },
    {
     "name": "stdout",
     "output_type": "stream",
     "text": [
      "401    8654\n",
      "402    8188\n",
      "403    8079\n",
      "405    7509\n",
      "331    7134\n",
      "326    6663\n",
      "327    5963\n",
      "407    5931\n",
      "330    5915\n",
      "328    5602\n",
      "325    5495\n",
      "406    5368\n",
      "329    5277\n",
      "404    5145\n",
      "324    4735\n",
      "322    3565\n",
      "323    3494\n",
      "Name: test_date, dtype: int64\n",
      "\n"
     ]
    },
    {
     "data": {
      "image/png": "[encoded data removed]",
      "text/plain": [
       "<Figure size 432x288 with 1 Axes>"
      ]
     },
     "metadata": {
      "needs_background": "light"
     },
     "output_type": "display_data"
    },
    {
     "name": "stdout",
     "output_type": "stream",
     "text": [
      "0       87339\n",
      "1       15137\n",
      "None      241\n",
      "Name: cough, dtype: int64\n",
      "\n"
     ]
    },
    {
     "data": {
      "image/png": "[encoded data removed]",
      "text/plain": [
       "<Figure size 432x288 with 1 Axes>"
      ]
     },
     "metadata": {
      "needs_background": "light"
     },
     "output_type": "display_data"
    },
    {
     "name": "stdout",
     "output_type": "stream",
     "text": [
      "0       94169\n",
      "1        8306\n",
      "None      242\n",
      "Name: fever, dtype: int64\n",
      "\n"
     ]
    },
    {
     "data": {
      "image/png": "[encoded data removed]",
      "text/plain": [
       "<Figure size 432x288 with 1 Axes>"
      ]
     },
     "metadata": {
      "needs_background": "light"
     },
     "output_type": "display_data"
    },
    {
     "name": "stdout",
     "output_type": "stream",
     "text": [
      "0    101378\n",
      "1      1339\n",
      "Name: sore_throat, dtype: int64\n",
      "\n"
     ]
    },
    {
     "data": {
      "image/png": "[encoded data removed]",
      "text/plain": [
       "<Figure size 432x288 with 1 Axes>"
      ]
     },
     "metadata": {
      "needs_background": "light"
     },
     "output_type": "display_data"
    },
    {
     "name": "stdout",
     "output_type": "stream",
     "text": [
      "0    101731\n",
      "1       986\n",
      "Name: shortness_of_breath, dtype: int64\n",
      "\n"
     ]
    },
    {
     "data": {
      "image/png": "[encoded data removed]",
      "text/plain": [
       "<Figure size 432x288 with 1 Axes>"
      ]
     },
     "metadata": {
      "needs_background": "light"
     },
     "output_type": "display_data"
    },
    {
     "name": "stdout",
     "output_type": "stream",
     "text": [
      "0    100828\n",
      "1      1889\n",
      "Name: head_ache, dtype: int64\n",
      "\n"
     ]
    },
    {
     "data": {
      "image/png": "[encoded data removed]",
      "text/plain": [
       "<Figure size 432x288 with 1 Axes>"
      ]
     },
     "metadata": {
      "needs_background": "light"
     },
     "output_type": "display_data"
    },
    {
     "name": "stdout",
     "output_type": "stream",
     "text": [
      "negative    93046\n",
      "positive     8436\n",
      "other        1235\n",
      "Name: corona_result, dtype: int64\n",
      "\n"
     ]
    },
    {
     "data": {
      "image/png": "[encoded data removed]",
      "text/plain": [
       "<Figure size 432x288 with 1 Axes>"
      ]
     },
     "metadata": {
      "needs_background": "light"
     },
     "output_type": "display_data"
    },
    {
     "name": "stdout",
     "output_type": "stream",
     "text": [
      "No     87067\n",
      "Yes    15650\n",
      "Name: age_60_and_above, dtype: int64\n",
      "\n"
     ]
    },
    {
     "data": {
      "image/png": "[encoded data removed]",
      "text/plain": [
       "<Figure size 432x288 with 1 Axes>"
      ]
     },
     "metadata": {
      "needs_background": "light"
     },
     "output_type": "display_data"
    },
    {
     "name": "stdout",
     "output_type": "stream",
     "text": [
      "male      50983\n",
      "female    49472\n",
      "None       2262\n",
      "Name: gender, dtype: int64\n",
      "\n"
     ]
    },
    {
     "data": {
      "image/png": "[encoded data removed]",
      "text/plain": [
       "<Figure size 432x288 with 1 Axes>"
      ]
     },
     "metadata": {
      "needs_background": "light"
     },
     "output_type": "display_data"
    },
    {
     "name": "stdout",
     "output_type": "stream",
     "text": [
      "Other                     88663\n",
      "Abroad                     8435\n",
      "Contact with confirmed     5619\n",
      "Name: test_indication, dtype: int64\n",
      "\n"
     ]
    }
   ],
   "source": [
    "for col in covid.columns:\n",
    "    covid[col].value_counts(dropna=False).plot(kind=\"bar\", title = f'{col}');\n",
    "    plt.show()\n",
    "    print(covid[col].value_counts(dropna=False))\n",
    "    print()"
   ]
  },
  {
   "cell_type": "markdown",
   "metadata": {},
   "source": [
    "## Processing"
   ]
  },
  {
   "cell_type": "markdown",
   "metadata": {},
   "source": [
    "Three possible processing pipelines\n",
    "   1. Drop missing values --> one-hot encode categorical features\n",
    "   2. Impute missing values --> one-hot encode categorical features\n",
    "   3. Leave missing values to be handled by GradientBoost --> map categorical features to numbers for GradientBoost\n",
    "   \n",
    "Best results were with preprocessing 1."
   ]
  },
  {
   "cell_type": "code",
   "execution_count": 7,
   "metadata": {},
   "outputs": [],
   "source": [
    "# PROCESSING 1\n",
    "\n",
    "# dropping all rows with \"None\"\n",
    "covid = covid.replace('None', np.nan).dropna()\n",
    "\n",
    "#fixing weird integers\n",
    "covid = covid.astype({'sore_throat':'int32',\n",
    "                      'shortness_of_breath':'int32',\n",
    "                      'head_ache':'int32'})\n",
    "\n",
    "# dropping 'other' as a test result category\n",
    "# now our target will either be positive or negative\n",
    "covid = covid[covid.corona_result != 'other']\n",
    "\n",
    "# one-hot encoding the rest \n",
    "covid = pd.get_dummies(data=covid, \n",
    "                       columns=[\"corona_result\",\"age_60_and_above\",\"gender\",\"test_indication\"], \n",
    "                       drop_first = True)\n",
    "\n",
    "covid.rename(columns={\"corona_result_positive\": \"corona_result\"}, inplace = True)\n",
    "# covid"
   ]
  },
  {
   "cell_type": "code",
   "execution_count": 8,
   "metadata": {},
   "outputs": [],
   "source": [
    "# PROCESSING 2: IMPUTING MISSING VALUES\n",
    "n = 'no'\n",
    "if n == 'yes':\n",
    "    # imputing missing values with majority value\n",
    "    covid = covid.replace('None', np.nan)\n",
    "    covid.cough = covid.cough.fillna(0)\n",
    "    covid.fever = covid.fever.fillna(0)\n",
    "    covid.gender = covid.gender.fillna('male')\n",
    "\n",
    "\n",
    "    #fixing weird integers\n",
    "    covid = covid.astype({'cough':'int32',\n",
    "                          'fever':'int32',\n",
    "                          'sore_throat':'int32',\n",
    "                          'shortness_of_breath':'int32',\n",
    "                          'head_ache':'int32'})\n",
    "\n",
    "    # dropping 'other' as a test result category\n",
    "    # now our target will either be positive or negative\n",
    "    covid = covid[covid.corona_result != 'other']\n",
    "\n",
    "    # one-hot encoding the rest \n",
    "    covid = pd.get_dummies(data=covid, \n",
    "                           columns=[\"corona_result\",\"age_60_and_above\",\"gender\",\"test_indication\"], \n",
    "                           drop_first = True)\n",
    "\n",
    "    covid.rename(columns={\"corona_result_positive\": \"corona_result\"}, inplace = True)"
   ]
  },
  {
   "cell_type": "code",
   "execution_count": 9,
   "metadata": {},
   "outputs": [],
   "source": [
    "# PROCESSING 3: FOR GRADIENT BOOST\n",
    "\n",
    "n = 'no'\n",
    "if n == 'yes':\n",
    "    covid = covid.replace('None', np.nan)\n",
    "\n",
    "    #fixing weird integers\n",
    "    covid = covid.astype({'sore_throat':'int32',\n",
    "                          'shortness_of_breath':'int32',\n",
    "                          'head_ache':'int32'})\n",
    "\n",
    "    # dropping 'other' as a test result category\n",
    "    # now our target will either be positive or negative\n",
    "    covid = covid[covid.corona_result != 'other']\n",
    "\n",
    "    # mapping categorical data to integers for gradient boost\n",
    "    covid.corona_result = covid.corona_result.map({'negative':0,'positive':1})\n",
    "    covid.age_60_and_above = covid.age_60_and_above.map({'No':0, 'yes':1},na_action='ignore')\n",
    "    covid.gender = covid.gender.map({'female':0,'male':1}, na_action='ignore')\n",
    "    covid.test_indication = covid.test_indication.map({'Other':0,'Contact with confirmed':1,'Abroad':2})"
   ]
  },
  {
   "cell_type": "markdown",
   "metadata": {},
   "source": [
    "### Train / Test Split\n",
    "   - Based on dates defined in the original study"
   ]
  },
  {
   "cell_type": "code",
   "execution_count": 10,
   "metadata": {},
   "outputs": [
    {
     "name": "stdout",
     "output_type": "stream",
     "text": [
      "train 51814\n",
      "test  47175\n"
     ]
    }
   ],
   "source": [
    "train = covid[covid.test_date<401]\n",
    "print(\"train\", train.shape[0])\n",
    "test = covid[covid.test_date>=401]\n",
    "print(\"test \", test.shape[0])"
   ]
  },
  {
   "cell_type": "markdown",
   "metadata": {},
   "source": [
    "## Resampling\n",
    "\n",
    "Because there are so few positive results compared to the negative results, the target is very unbalanced. In order to train better, I will resample the train/validate set so that there are equal numbers of positive and negative results.\n",
    "\n",
    "Specifically, I will *upsample* the positive results. That is to say, I will randomly duplicate positive rows until there are as many positive training examples as there are negative ones."
   ]
  },
  {
   "cell_type": "code",
   "execution_count": 11,
   "metadata": {},
   "outputs": [
    {
     "data": {
      "text/plain": [
       "0    47054\n",
       "1     4760\n",
       "Name: corona_result, dtype: int64"
      ]
     },
     "execution_count": 11,
     "metadata": {},
     "output_type": "execute_result"
    }
   ],
   "source": [
    "# how bad is the imbalance?\n",
    "train.corona_result.value_counts()"
   ]
  },
  {
   "cell_type": "code",
   "execution_count": 12,
   "metadata": {},
   "outputs": [
    {
     "data": {
      "text/plain": [
       "1    47054\n",
       "Name: corona_result, dtype: int64"
      ]
     },
     "execution_count": 12,
     "metadata": {},
     "output_type": "execute_result"
    }
   ],
   "source": [
    "# resampling the rows of the dataset with positive test results to end up with the same number of\n",
    "# rows as the negative test results\n",
    "# pos_upsampled is all columns but ONLY FOR POSITIVE TEST results\n",
    "from sklearn.utils import resample\n",
    "\n",
    "pos_upsampled = resample(train[train.corona_result==1],\n",
    "                             replace=True, \n",
    "                             n_samples = train[train.corona_result== 0].shape[0],\n",
    "                             random_state=seed)\n",
    "\n",
    "pos_upsampled.corona_result.value_counts()"
   ]
  },
  {
   "cell_type": "code",
   "execution_count": 13,
   "metadata": {},
   "outputs": [
    {
     "data": {
      "text/plain": [
       "0    47054\n",
       "Name: corona_result, dtype: int64"
      ]
     },
     "execution_count": 13,
     "metadata": {},
     "output_type": "execute_result"
    }
   ],
   "source": [
    "# the covid dataset with only the negative test results\n",
    "neg = train[train.corona_result==0]\n",
    "neg.corona_result.value_counts()"
   ]
  },
  {
   "cell_type": "code",
   "execution_count": 14,
   "metadata": {},
   "outputs": [
    {
     "data": {
      "text/plain": [
       "0    47054\n",
       "1    47054\n",
       "Name: corona_result, dtype: int64"
      ]
     },
     "metadata": {},
     "output_type": "display_data"
    }
   ],
   "source": [
    "# balanced covid dataset of the two put back together\n",
    "bal_train = pd.concat([neg,pos_upsampled])\n",
    "# display(bal_train.head())\n",
    "display(bal_train.corona_result.value_counts())"
   ]
  },
  {
   "cell_type": "markdown",
   "metadata": {},
   "source": [
    "Now I'll define the final training and testing data sets, split into features (X) and target (y):"
   ]
  },
  {
   "cell_type": "code",
   "execution_count": 15,
   "metadata": {},
   "outputs": [],
   "source": [
    "# training data: March 22nd to March 31st, upsampled positive rows\n",
    "X_train = bal_train.drop(columns=['corona_result', 'test_date']).values\n",
    "y_train = bal_train.corona_result.values\n",
    "\n",
    "# testing data: April 1st to April 7th, no resampling\n",
    "X_test = test.drop(columns=['corona_result', 'test_date']).values\n",
    "y_test = test.corona_result.values"
   ]
  },
  {
   "cell_type": "markdown",
   "metadata": {},
   "source": [
    "## Model Selection\n",
    "\n",
    "Here I tune hyperparameters on different classifiers."
   ]
  },
  {
   "cell_type": "code",
   "execution_count": 16,
   "metadata": {},
   "outputs": [
    {
     "name": "stdout",
     "output_type": "stream",
     "text": [
      "0.9369088653141919\n",
      "{'alpha': 0.001, 'eta0': 0.001, 'learning_rate': 'adaptive', 'penalty': 'l2'}\n",
      "CPU times: user 18.6 s, sys: 2.2 s, total: 20.8 s\n",
      "Wall time: 2min 15s\n"
     ]
    }
   ],
   "source": [
    "%%time\n",
    "from sklearn.linear_model import SGDClassifier\n",
    "from sklearn.model_selection import GridSearchCV\n",
    "\n",
    "sgd = SGDClassifier(random_state=seed)\n",
    "\n",
    "param_grid = {\n",
    "        'alpha': [.01,.001, .0001, .00001],\n",
    "        'penalty': ['l1', 'l2'],\n",
    "        'learning_rate': [\"adaptive\", \"optimal\"],\n",
    "        'eta0': [.0001,.001,.01]   \n",
    "}\n",
    "# Set up search\n",
    "searchSGD = GridSearchCV(estimator=sgd,\n",
    "                  param_grid=param_grid,\n",
    "                  scoring='roc_auc',\n",
    "                  cv=10,\n",
    "                  n_jobs=2)\n",
    "# Run search\n",
    "searchSGD = searchSGD.fit(X_train, y_train)\n",
    "# output search results\n",
    "print(searchSGD.best_score_)\n",
    "print(searchSGD.best_params_)"
   ]
  },
  {
   "cell_type": "code",
   "execution_count": 17,
   "metadata": {},
   "outputs": [
    {
     "name": "stdout",
     "output_type": "stream",
     "text": [
      "0.9516894090350725\n",
      "{'max_depth': 10, 'n_estimators': 100}\n",
      "CPU times: user 7.06 s, sys: 766 ms, total: 7.82 s\n",
      "Wall time: 12min 11s\n"
     ]
    }
   ],
   "source": [
    "%%time\n",
    "from sklearn.ensemble import RandomForestClassifier\n",
    "from sklearn.model_selection import GridSearchCV\n",
    "\n",
    "rf = RandomForestClassifier(random_state=seed)\n",
    "\n",
    "param_grid = {\n",
    "        'n_estimators': [10, 100, 1000],\n",
    "        'max_depth': [2,4,6,10,25], \n",
    "}\n",
    "# Set up search\n",
    "searchrf = GridSearchCV(estimator=rf,\n",
    "                  param_grid=param_grid,\n",
    "                  scoring='roc_auc',\n",
    "                  cv=10,\n",
    "                  n_jobs=2)\n",
    "# Run search\n",
    "searchrf = searchrf.fit(X_train, y_train)\n",
    "# output search results\n",
    "print(searchrf.best_score_)\n",
    "print(searchrf.best_params_)"
   ]
  },
  {
   "cell_type": "code",
   "execution_count": 18,
   "metadata": {},
   "outputs": [
    {
     "name": "stdout",
     "output_type": "stream",
     "text": [
      "0.9519038257055632\n",
      "{'alpha': 0.0001, 'hidden_layer_sizes': (9, 9, 6, 6), 'learning_rate': 'adaptive', 'learning_rate_init': 0.01}\n",
      "CPU times: user 22.6 s, sys: 1.32 s, total: 23.9 s\n",
      "Wall time: 18min 49s\n"
     ]
    }
   ],
   "source": [
    "%%time\n",
    "\n",
    "from sklearn.neural_network import MLPClassifier\n",
    "from sklearn.model_selection import GridSearchCV\n",
    "\n",
    "mlp = MLPClassifier(activation='relu',\n",
    "                    solver='adam',\n",
    "                    max_iter=400,\n",
    "                    random_state=seed)\n",
    "\n",
    "param_grid = {\n",
    "        'alpha': [.0001],\n",
    "        'learning_rate': [\"adaptive\", \"constant\"],\n",
    "        'learning_rate_init':[.001,.01],\n",
    "        'hidden_layer_sizes' : [(9,),(27,),(9,9),(9,9,6),(9,9,6,6)]\n",
    "}\n",
    "# Set up search\n",
    "searchMLP = GridSearchCV(estimator=mlp,\n",
    "                  param_grid=param_grid,\n",
    "                  scoring='roc_auc',\n",
    "                  cv=10,\n",
    "                  n_jobs=2)\n",
    "# Run search\n",
    "searchMLP = searchMLP.fit(X_train, y_train)\n",
    "# output search results\n",
    "print(searchMLP.best_score_)\n",
    "print(searchMLP.best_params_)"
   ]
  },
  {
   "cell_type": "code",
   "execution_count": 19,
   "metadata": {},
   "outputs": [
    {
     "name": "stdout",
     "output_type": "stream",
     "text": [
      "0.9519515295442158\n",
      "{'learning_rate': 0.05, 'max_leaf_nodes': 31, 'min_samples_leaf': 20, 'scoring': 'loss'}\n",
      "CPU times: user 10.9 s, sys: 570 ms, total: 11.5 s\n",
      "Wall time: 3min 19s\n"
     ]
    }
   ],
   "source": [
    "%%time\n",
    "from sklearn.ensemble import HistGradientBoostingClassifier\n",
    "from sklearn.model_selection import GridSearchCV\n",
    "\n",
    "gb = HistGradientBoostingClassifier(categorical_features=[0,1,2,3,4,5,6,7,8], random_state=seed)\n",
    "\n",
    "param_grid = {\n",
    "        'learning_rate': [.05, .1,],\n",
    "        'max_leaf_nodes': [None,31,50],\n",
    "        'scoring':['loss'],\n",
    "        'min_samples_leaf':[4, 20]\n",
    "}\n",
    "# Set up search\n",
    "searchgb = GridSearchCV(estimator=gb,\n",
    "                  param_grid=param_grid,\n",
    "                  scoring='roc_auc',\n",
    "                  cv=10,\n",
    "                  n_jobs=2)\n",
    "# Run search\n",
    "searchgb = searchgb.fit(X_train, y_train)\n",
    "# output search results\n",
    "print(searchgb.best_score_)\n",
    "print(searchgb.best_params_)"
   ]
  },
  {
   "cell_type": "markdown",
   "metadata": {},
   "source": [
    "## Model Evaluation\n",
    "\n",
    "Using the optimal hyperparameters found in model selection, I predict on the test data set.\n",
    "\n",
    "Then I output the classification report, confusion matrix, and ROC_AUC score for each classifier.\n",
    "\n",
    "ROC_AUC (Receiver operating characteristic area under the curve) is the evaluation measure because the target values are unbalanced in the test set. That is, there are very many more negative results than positive results in the test set.  "
   ]
  },
  {
   "cell_type": "code",
   "execution_count": 20,
   "metadata": {},
   "outputs": [],
   "source": [
    "#imports\n",
    "from sklearn.metrics import confusion_matrix\n",
    "# from sklearn.metrics import plot_confusion_matrix\n",
    "from sklearn.metrics import ConfusionMatrixDisplay\n",
    "\n",
    "from sklearn.metrics import roc_auc_score\n",
    "from sklearn.metrics import classification_report as report"
   ]
  },
  {
   "cell_type": "markdown",
   "metadata": {},
   "source": [
    "### SGD Evaluation"
   ]
  },
  {
   "cell_type": "code",
   "execution_count": 21,
   "metadata": {},
   "outputs": [
    {
     "name": "stdout",
     "output_type": "stream",
     "text": [
      "Classification Report for SGD Classifier\n",
      "              precision    recall  f1-score   support\n",
      "\n",
      "           0       0.98      0.94      0.96     43570\n",
      "           1       0.51      0.77      0.62      3605\n",
      "\n",
      "    accuracy                           0.93     47175\n",
      "   macro avg       0.75      0.86      0.79     47175\n",
      "weighted avg       0.94      0.93      0.93     47175\n",
      "\n",
      "SGD ROC AUC score:  0.856\n",
      "\n"
     ]
    },
    {
     "data": {
      "image/png": "[encoded data removed]",
      "text/plain": [
       "<Figure size 432x288 with 2 Axes>"
      ]
     },
     "metadata": {
      "needs_background": "light"
     },
     "output_type": "display_data"
    }
   ],
   "source": [
    "sgd_pred = searchSGD.predict(X_test)\n",
    "print(\"Classification Report for SGD Classifier\")\n",
    "print(report(y_test,sgd_pred))\n",
    "print(\"SGD ROC AUC score: \", round(roc_auc_score(y_test, sgd_pred), 3))\n",
    "print()\n",
    "\n",
    "title = \"Covid Testing Confusion Matrix - SGD\"\n",
    "class_names = ['negative','positive']\n",
    "# print(title)\n",
    "disp = ConfusionMatrixDisplay.from_predictions(y_test, sgd_pred,\n",
    "                                                 display_labels=class_names,\n",
    "                                                 cmap=plt.cm.Blues)\n",
    "disp.ax_.set_title(title);\n",
    "plt.show()"
   ]
  },
  {
   "cell_type": "markdown",
   "metadata": {},
   "source": [
    "### Random Forest Evaluation"
   ]
  },
  {
   "cell_type": "code",
   "execution_count": 22,
   "metadata": {},
   "outputs": [
    {
     "name": "stdout",
     "output_type": "stream",
     "text": [
      "Classification Report for Random Forest\n",
      "              precision    recall  f1-score   support\n",
      "\n",
      "           0       0.99      0.90      0.94     43570\n",
      "           1       0.40      0.84      0.55      3605\n",
      "\n",
      "    accuracy                           0.89     47175\n",
      "   macro avg       0.69      0.87      0.74     47175\n",
      "weighted avg       0.94      0.89      0.91     47175\n",
      "\n",
      "Random Forest ROC AUC score:  0.867\n",
      "\n"
     ]
    },
    {
     "data": {
      "image/png": "[encoded data removed]",
      "text/plain": [
       "<Figure size 432x288 with 2 Axes>"
      ]
     },
     "metadata": {
      "needs_background": "light"
     },
     "output_type": "display_data"
    }
   ],
   "source": [
    "rf_pred = searchrf.predict(X_test)\n",
    "print(\"Classification Report for Random Forest\")\n",
    "print(report(y_test,rf_pred))\n",
    "print(\"Random Forest ROC AUC score: \", round(roc_auc_score(y_test, rf_pred), 3))\n",
    "print()\n",
    "\n",
    "title = \"Covid Testing Confusion Matrix - Random Forest\"\n",
    "class_names = ['negative','positive']\n",
    "# print(title)\n",
    "disp = ConfusionMatrixDisplay.from_predictions(y_test, rf_pred,\n",
    "                                                 display_labels=class_names,\n",
    "                                                 cmap=plt.cm.Blues)\n",
    "disp.ax_.set_title(title);\n",
    "plt.show()"
   ]
  },
  {
   "cell_type": "markdown",
   "metadata": {},
   "source": [
    "### MLP Evaluation"
   ]
  },
  {
   "cell_type": "code",
   "execution_count": 23,
   "metadata": {},
   "outputs": [
    {
     "name": "stdout",
     "output_type": "stream",
     "text": [
      "Classification Report for MLP Classifier\n",
      "              precision    recall  f1-score   support\n",
      "\n",
      "           0       0.99      0.89      0.94     43570\n",
      "           1       0.40      0.84      0.54      3605\n",
      "\n",
      "    accuracy                           0.89     47175\n",
      "   macro avg       0.69      0.87      0.74     47175\n",
      "weighted avg       0.94      0.89      0.91     47175\n",
      "\n",
      "MLP ROC AUC score:  0.868\n",
      "\n"
     ]
    },
    {
     "data": {
      "image/png": "[encoded data removed]",
      "text/plain": [
       "<Figure size 432x288 with 2 Axes>"
      ]
     },
     "metadata": {
      "needs_background": "light"
     },
     "output_type": "display_data"
    }
   ],
   "source": [
    "mlp_pred = searchMLP.predict(X_test)\n",
    "print(\"Classification Report for MLP Classifier\")\n",
    "print(report(y_test,mlp_pred))\n",
    "print(\"MLP ROC AUC score: \", round(roc_auc_score(y_test, mlp_pred), 3))\n",
    "print()\n",
    "\n",
    "title = \"Covid Testing Confusion Matrix - MLP\"\n",
    "class_names = ['negative','positive']\n",
    "# print(title)\n",
    "disp = ConfusionMatrixDisplay.from_predictions(y_test, mlp_pred,\n",
    "                                                 display_labels=class_names,\n",
    "                                                 cmap=plt.cm.Blues)\n",
    "disp.ax_.set_title(title);\n",
    "plt.show()"
   ]
  },
  {
   "cell_type": "markdown",
   "metadata": {},
   "source": [
    "### Gradient Boosting Evaluation"
   ]
  },
  {
   "cell_type": "code",
   "execution_count": 24,
   "metadata": {},
   "outputs": [
    {
     "name": "stdout",
     "output_type": "stream",
     "text": [
      "Classification Report for GB Classifier\n",
      "              precision    recall  f1-score   support\n",
      "\n",
      "           0       0.99      0.89      0.94     43570\n",
      "           1       0.40      0.84      0.54      3605\n",
      "\n",
      "    accuracy                           0.89     47175\n",
      "   macro avg       0.69      0.87      0.74     47175\n",
      "weighted avg       0.94      0.89      0.91     47175\n",
      "\n",
      "Gradient Boosting ROC AUC score:  0.868\n",
      "\n"
     ]
    },
    {
     "data": {
      "image/png": "[encoded data removed]",
      "text/plain": [
       "<Figure size 432x288 with 2 Axes>"
      ]
     },
     "metadata": {
      "needs_background": "light"
     },
     "output_type": "display_data"
    }
   ],
   "source": [
    "gb_pred = searchgb.predict(X_test)\n",
    "print(\"Classification Report for GB Classifier\")\n",
    "print(report(y_test,gb_pred))\n",
    "print(\"Gradient Boosting ROC AUC score: \", round(roc_auc_score(y_test, gb_pred), 3))\n",
    "print()\n",
    "\n",
    "title = \"Covid Testing Confusion Matrix - Gradient Boosting\"\n",
    "class_names = ['negative','positive']\n",
    "# print(title)\n",
    "disp = ConfusionMatrixDisplay.from_predictions(y_test, gb_pred,\n",
    "                                                 display_labels=class_names,\n",
    "                                                 cmap=plt.cm.Blues)\n",
    "disp.ax_.set_title(title);\n",
    "plt.show()"
   ]
  },
  {
   "cell_type": "markdown",
   "metadata": {},
   "source": [
    "## Evaluation\n",
    "\n",
    "The original study finished with an ROC_AUC of .90.\n",
    "\n",
    "My best results, with both the Multilayer Perceptron and the HistGradientBoost were ROC_AUC of .868."
   ]
  }
 ],
 "metadata": {
  "kernelspec": {
   "display_name": "Python 3",
   "language": "python",
   "name": "python3"
  },
  "language_info": {
   "codemirror_mode": {
    "name": "ipython",
    "version": 3
   },
   "file_extension": ".py",
   "mimetype": "text/x-python",
   "name": "python",
   "nbconvert_exporter": "python",
   "pygments_lexer": "ipython3",
   "version": "3.8.12"
  },
  "varInspector": {
   "cols": {
    "lenName": 16,
    "lenType": 16,
    "lenVar": 40
   },
   "kernels_config": {
    "python": {
     "delete_cmd_postfix": "",
     "delete_cmd_prefix": "del ",
     "library": "var_list.py",
     "varRefreshCmd": "print(var_dic_list())"
    },
    "r": {
     "delete_cmd_postfix": ") ",
     "delete_cmd_prefix": "rm(",
     "library": "var_list.r",
     "varRefreshCmd": "cat(var_dic_list()) "
    }
   },
   "types_to_exclude": [
    "module",
    "function",
    "builtin_function_or_method",
    "instance",
    "_Feature"
   ],
   "window_display": false
  }
 },
 "nbformat": 4,
 "nbformat_minor": 4
}
